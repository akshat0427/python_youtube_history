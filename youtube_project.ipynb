{
 "cells": [
  {
   "cell_type": "code",
   "execution_count": 20,
   "metadata": {
    "id": "dHeiK4ZgV0U8"
   },
   "outputs": [],
   "source": [
    "from bs4 import BeautifulSoup\n",
    "import requests\n",
    "import pandas as pd\n",
    "\n",
    "\n",
    "with open(\"./youtube_history.html\", encoding='utf-8') as o:\n",
    "    \n",
    "    soup = BeautifulSoup(o, 'lxml')\n"
   ]
  },
  {
   "cell_type": "markdown",
   "metadata": {},
   "source": [
    "# total number of videos"
   ]
  },
  {
   "cell_type": "code",
   "execution_count": 11,
   "metadata": {
    "colab": {
     "base_uri": "https://localhost:8080/"
    },
    "executionInfo": {
     "elapsed": 2483,
     "status": "ok",
     "timestamp": 1699940686304,
     "user": {
      "displayName": "Akshat Kabra",
      "userId": "15600501875377635954"
     },
     "user_tz": -330
    },
    "id": "2nP3_35fV6yy",
    "outputId": "478cbaa6-ce04-4a20-943b-5483c3544861"
   },
   "outputs": [
    {
     "name": "stdout",
     "output_type": "stream",
     "text": [
      "total videos -  14116\n"
     ]
    }
   ],
   "source": [
    "c= 0\n",
    "for i in soup.find_all('div', class_='mdl-grid'):\n",
    "    \n",
    "    \n",
    "    c+=1\n",
    "\n",
    "print(\"total videos - \",c)\n"
   ]
  },
  {
   "cell_type": "markdown",
   "metadata": {
    "executionInfo": {
     "elapsed": 2660,
     "status": "ok",
     "timestamp": 1699969689652,
     "user": {
      "displayName": "Akshat Kabra",
      "userId": "15600501875377635954"
     },
     "user_tz": -330
    },
    "id": "sUgUmr8TXEe5"
   },
   "source": [
    "# number of unique videos "
   ]
  },
  {
   "cell_type": "code",
   "execution_count": 41,
   "metadata": {},
   "outputs": [],
   "source": [
    "video_info = [[],[]]  # video title ,  video id"
   ]
  },
  {
   "cell_type": "code",
   "execution_count": 57,
   "metadata": {},
   "outputs": [
    {
     "name": "stdout",
     "output_type": "stream",
     "text": [
      "30  \n",
      " --videos has been removed \n",
      " \n",
      "13423  \n",
      " --total unique videos \n",
      " \n"
     ]
    }
   ],
   "source": [
    "c1 = 0\n",
    "\n",
    "for i in soup.find_all(\"div\", class_=\"content-cell mdl-cell mdl-cell--6-col mdl-typography--body-1\"):\n",
    "    try:\n",
    "        \n",
    "        video_info[0].append(i.a.text)\n",
    "        \n",
    "        video_info[1].append(i.a['href'].split(\"?v=\")[1])\n",
    "        \n",
    "    except Exception as e:\n",
    "        c1+=1\n",
    "        \n",
    "print(c1, \" \\n --videos has been removed \\n \")   # the videos removed by channel owner\n",
    "\n",
    "\n",
    "print(len(set(video_info[1])), \" \\n --total unique videos \\n \",)"
   ]
  },
  {
   "cell_type": "code",
   "execution_count": null,
   "metadata": {},
   "outputs": [],
   "source": []
  },
  {
   "cell_type": "markdown",
   "metadata": {},
   "source": [
    "# most rewatched videos"
   ]
  },
  {
   "cell_type": "code",
   "execution_count": 94,
   "metadata": {},
   "outputs": [],
   "source": [
    "t2 = [list(set(video_info[1])),video_info[1]] # unique vids,all vids \n",
    "Videoinfo = dict(zip(video_info[1], video_info[0]))\n"
   ]
  },
  {
   "cell_type": "code",
   "execution_count": 245,
   "metadata": {},
   "outputs": [
    {
     "name": "stdout",
     "output_type": "stream",
     "text": [
      "18 times \t Most Flexible Eyeglasses | Lenskart Flex | #Shorts | #Lenskart --   https://www.youtube.com/watch?v=qCviED810jo\n",
      "14 times \t HORMEL® BLACK LABEL® Premium Maple Black Pepper Bacon --   https://www.youtube.com/watch?v=oJM6pxYzbQI\n",
      "12 times \t Nitish Rajput 9x16 20 sec App outro --   https://www.youtube.com/watch?v=pUmm3u5gs58\n",
      "11 times \t TRAYA X DUSH 9x16 40 sec App Outro --   https://www.youtube.com/watch?v=-YMQfSuNhEI\n",
      "10 times \t 2 - 9:16 - 29 July --   https://www.youtube.com/watch?v=UfSCrtCE5wE\n",
      "9 times \t Introducing Hood App | Shark Tank India Season 2 --   https://www.youtube.com/watch?v=YtOuaonmWGs\n",
      "9 times \t Declutter your closet and make money! --   https://www.youtube.com/watch?v=bj8F1PS_4Ng\n",
      "9 times \t Exclusive first hand impression of #iqooz7pro by @TechnicalGuruji --   https://www.youtube.com/watch?v=YxpomfUZCv4\n",
      "8 times \t 20 Min Full Body Workout Routine for Beginners (Follow Along) | No Gym --   https://www.youtube.com/watch?v=AzV3EA-1-yM\n",
      "8 times \t Mountain_Girl_9x16_Hindi_643e7a41fc8b6d000e106bf6 --   https://www.youtube.com/watch?v=KH3LiUKIhkA\n"
     ]
    }
   ],
   "source": [
    "\n",
    "\n",
    "def sort_elements(ul, tl): # t2[0]   t2[1]\n",
    "    uq = set(ul)\n",
    "    counter2 = {}\n",
    "    for i in tl:\n",
    "        if i in uq:\n",
    "            if i in counter2:\n",
    "                counter2[i] += 1\n",
    "            else:\n",
    "                counter2[i] = 1\n",
    "    \n",
    "    return dict(sorted(counter2.items(), key=lambda item: item[1], reverse=True))    # sort the list descendingly \n",
    "            \n",
    "\n",
    "\n",
    "srtd_dct_videos = sort_elements(t2[0], t2[1])\n",
    "\n",
    "    \n",
    "c=0\n",
    "for i,v in srtd_dct_videos.items():\n",
    "    c+=1\n",
    "    \n",
    "    print(v,\"times \\t\",Videoinfo[i], \"--  \",f\"https://www.youtube.com/watch?v={i}\", )\n",
    "    \n",
    "    if c == 10: break\n",
    "\n"
   ]
  },
  {
   "cell_type": "code",
   "execution_count": 155,
   "metadata": {},
   "outputs": [
    {
     "data": {
      "text/plain": [
       "' most of them are ads '"
      ]
     },
     "execution_count": 155,
     "metadata": {},
     "output_type": "execute_result"
    }
   ],
   "source": [
    "''' most of them are ads '''"
   ]
  },
  {
   "cell_type": "code",
   "execution_count": null,
   "metadata": {},
   "outputs": [],
   "source": []
  },
  {
   "cell_type": "markdown",
   "metadata": {},
   "source": [
    "# most watched channels"
   ]
  },
  {
   "cell_type": "code",
   "execution_count": 229,
   "metadata": {},
   "outputs": [],
   "source": [
    "channels = [[],[]] # channel UiD , channel name\n",
    "\n",
    "\n",
    "tr = soup.find_all(\"div\", class_=\"content-cell mdl-cell mdl-cell--6-col mdl-typography--body-1\")\n",
    "c= 0\n",
    "for i in tr:\n",
    "    \n",
    "    try:\n",
    "        channels[0].append(i.find_all(\"a\")[1]['href'].split(\"/channel/\")[1])\n",
    "        channels[1].append(i.find_all(\"a\")[1].text)\n",
    "        # channels[i.find_all(\"a\")[1]['href'].split(\"/channel/\")[1]] = i.find_all(\"a\")[1].text\n",
    "        # c+=1\n",
    "    \n",
    "    except Exception as e:\n",
    "        pass\n",
    "\n",
    "channel_dict = dict(zip(channels[0], channels[1]))\n",
    "        \n"
   ]
  },
  {
   "cell_type": "code",
   "execution_count": 244,
   "metadata": {},
   "outputs": [],
   "source": [
    "req_data = [channels[0],set(channels[0])]   # all channels, unique channels\n",
    "\n",
    "top_channels = sort_elements(req_data[1], req_data[0])"
   ]
  },
  {
   "cell_type": "code",
   "execution_count": 262,
   "metadata": {},
   "outputs": [
    {
     "name": "stdout",
     "output_type": "stream",
     "text": [
      "1. channel ----  cravingsandcalories vlogs \n",
      "   times watched ----- 190 \n",
      "\n",
      "2. channel ----  BLUE BOX \n",
      "   times watched ----- 152 \n",
      "\n",
      "3. channel ----  Ankit baiyanpuria \n",
      "   times watched ----- 130 \n",
      "\n",
      "4. channel ----  MostTechy Shorts \n",
      "   times watched ----- 114 \n",
      "\n",
      "5. channel ----  Aman and Bully \n",
      "   times watched ----- 103 \n",
      "\n",
      "6. channel ----  Harshit Dwivedi Education \n",
      "   times watched ----- 101 \n",
      "\n",
      "7. channel ----  ShivamIsOn \n",
      "   times watched ----- 101 \n",
      "\n",
      "8. channel ----  TIGON \n",
      "   times watched ----- 95 \n",
      "\n",
      "9. channel ----  TechBurner Shorts \n",
      "   times watched ----- 93 \n",
      "\n",
      "10. channel ----  GyanCar \n",
      "   times watched ----- 88 \n",
      "\n"
     ]
    }
   ],
   "source": [
    "c2 = 0\n",
    "for i,v in top_channels.items():\n",
    "    c2+=1\n",
    "\n",
    "\n",
    "    print(f\"{c2}.\", \"channel ---- \",channel_dict[i], \"\\n   times watched -----\", v, \"\\n\")\n",
    "\n",
    "    \n",
    "    \n",
    "\n",
    "    if c2 == 10: break\n",
    "        "
   ]
  },
  {
   "cell_type": "code",
   "execution_count": null,
   "metadata": {},
   "outputs": [],
   "source": []
  },
  {
   "cell_type": "markdown",
   "metadata": {},
   "source": [
    "# on what day i wasted the most and least time "
   ]
  },
  {
   "cell_type": "code",
   "execution_count": 4,
   "metadata": {},
   "outputs": [],
   "source": [
    "\n",
    "''' extracting the dates  '''\n",
    "\n",
    "s3 = soup.find_all(\"div\", class_=\"content-cell mdl-cell mdl-cell--6-col mdl-typography--body-1\")\n",
    "\n",
    "\n",
    "s3 = [str(i) for i in s3]\n",
    "\n"
   ]
  },
  {
   "cell_type": "code",
   "execution_count": 8,
   "metadata": {},
   "outputs": [],
   "source": [
    "dates= []"
   ]
  },
  {
   "cell_type": "code",
   "execution_count": 21,
   "metadata": {},
   "outputs": [],
   "source": [
    "for i in range(0, len(s3)):\n",
    "    try:\n",
    "        dates.append(s3[i].split(\"<br/>\")[2].split(\",\")[0])\n",
    "    except Exception as e:\n",
    "        dates.append(s3[i].split(\"<br/>\")[1].split(\",\")[0])\n",
    "        print(i)\n"
   ]
  },
  {
   "cell_type": "code",
   "execution_count": 53,
   "metadata": {},
   "outputs": [],
   "source": [
    "df = pd.DataFrame()\n",
    "\n",
    "months_and_dates = [[dates[i].split(\" \")[1] for i in range(0, len(dates))],[dates[i].split(\" \")[0] for i in range(0, len(dates))]]   # month   date\n",
    "\n"
   ]
  },
  {
   "cell_type": "code",
   "execution_count": 54,
   "metadata": {},
   "outputs": [],
   "source": [
    "\n",
    "df['month'] = months_and_dates[0]\n",
    "df['date'] = months_and_dates[1]\n",
    "\n",
    "df['combined'] = list(zip(months_and_dates[1], months_and_dates[0]))\n",
    "\n"
   ]
  },
  {
   "cell_type": "code",
   "execution_count": 101,
   "metadata": {},
   "outputs": [],
   "source": [
    "frequency_count = df['combined'].value_counts()\n",
    "\n",
    "\n",
    "\n",
    "most_occured_pair = frequency_count.idxmax()\n",
    "least_occured_pair = frequency_count.idxmin()\n",
    "\n",
    "\n",
    "\n"
   ]
  },
  {
   "cell_type": "code",
   "execution_count": 100,
   "metadata": {},
   "outputs": [
    {
     "data": {
      "text/plain": [
       "415"
      ]
     },
     "execution_count": 100,
     "metadata": {},
     "output_type": "execute_result"
    }
   ],
   "source": [
    "# frequency_count.idmin()"
   ]
  },
  {
   "cell_type": "code",
   "execution_count": 90,
   "metadata": {},
   "outputs": [],
   "source": [
    "# print(pair_counts.to_list()[0], \"videos on\", most_occured_pair)\n",
    "# # print(pair_counts.to_list()[-1], \"videos on\", least_frequent_count)\n"
   ]
  },
  {
   "cell_type": "code",
   "execution_count": 117,
   "metadata": {},
   "outputs": [
    {
     "name": "stdout",
     "output_type": "stream",
     "text": [
      "watched the most on  ('27', 'Aug') \t total ---  415 videos \n",
      "\n",
      "watched the least on  ('22', 'Sept') \t total ---  5 videos \n"
     ]
    }
   ],
   "source": [
    "print(\"watched the most on \", most_occured_pair, \"\\t total --- \", frequency_count.to_list()[0], \"videos \",)\n",
    "print()\n",
    "print(\"watched the least on \", least_occured_pair, \"\\t total --- \", frequency_count.to_list()[-1], \"videos \",)\n",
    "\n",
    "\n",
    "# print(pair_counts.to_list()[-1], \"videos on\", least_occured_pair)\n"
   ]
  },
  {
   "cell_type": "code",
   "execution_count": null,
   "metadata": {},
   "outputs": [],
   "source": []
  }
 ],
 "metadata": {
  "colab": {
   "authorship_tag": "ABX9TyP+NKzROIGciogjX34hkGhv",
   "provenance": []
  },
  "kernelspec": {
   "display_name": "Python 3 (ipykernel)",
   "language": "python",
   "name": "python3"
  },
  "language_info": {
   "codemirror_mode": {
    "name": "ipython",
    "version": 3
   },
   "file_extension": ".py",
   "mimetype": "text/x-python",
   "name": "python",
   "nbconvert_exporter": "python",
   "pygments_lexer": "ipython3",
   "version": "3.12.3"
  }
 },
 "nbformat": 4,
 "nbformat_minor": 4
}
